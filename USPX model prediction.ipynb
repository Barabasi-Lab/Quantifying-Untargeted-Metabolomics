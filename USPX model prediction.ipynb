{
 "cells": [
  {
   "cell_type": "code",
   "execution_count": null,
   "id": "b4f9eb33",
   "metadata": {},
   "outputs": [],
   "source": [
    "#Packages\n",
    "import sys\n",
    "import math\n",
    "import matplotlib.pyplot as plt\n",
    "import json\n",
    "import csv\n",
    "import numpy as np\n",
    "import pandas as pd\n",
    "import time\n",
    "import re\n",
    "import random\n",
    "from tqdm import tqdm\n",
    "import os\n",
    "import multiprocessing as mp\n",
    "import prince\n",
    "\n",
    "from sklearn.decomposition import PCA\n",
    "from sklearn.model_selection import train_test_split\n",
    "from sklearn.ensemble import GradientBoostingRegressor\n",
    "from scipy.stats import loguniform\n",
    "from skopt import BayesSearchCV\n",
    "from skopt.plots import plot_objective, plot_histogram\n",
    "from sklearn.model_selection import KFold, StratifiedKFold\n",
    "from sklearn.metrics import mean_squared_error, r2_score\n",
    "from sklearn.model_selection import ShuffleSplit\n",
    "from sklearn import linear_model"
   ]
  },
  {
   "cell_type": "markdown",
   "id": "840044ad",
   "metadata": {},
   "source": [
    "# Load and Prepare Data"
   ]
  },
  {
   "cell_type": "code",
   "execution_count": null,
   "id": "af2fec3f",
   "metadata": {
    "scrolled": false
   },
   "outputs": [],
   "source": [
    "#Prepare USDA and Phenol Expore data\n",
    "uspx_data=pd.read_csv('../data/USPX_features.csv')\n",
    "uspx_data=uspx_data[uspx_data['value']!=0] #Remove rows reporting 0 concentration\n",
    "uspx_data=uspx_data.reset_index()\n",
    "uspx_data=uspx_data.drop(columns=['index'])\n",
    "\n",
    "#Split data\n",
    "uspx_comp_ids=uspx_data[['row_id','comp_name','InChIKey']] #Chemical Identifiers\n",
    "Slbl=uspx_data[['row_id','Cvariable','C_Label','F_Label']] #Labels for Stratifying Folds\n",
    "uspx_props=uspx_data[['MW','C','logP','logS','HBI','NCA','NPSA','C_Label']] #Property Features\n",
    "uspx_phylo=uspx_data[['class','order','family','genus','F_Label']] #Phylogenetic Features\n",
    "uspx_resp=uspx_data[['row_id','logvalue']] #Response Values"
   ]
  },
  {
   "cell_type": "code",
   "execution_count": null,
   "id": "ce969bb9",
   "metadata": {
    "scrolled": true
   },
   "outputs": [],
   "source": [
    "#Prepare Metabolon Data\n",
    "MS_data=pd.read_csv('../data/MassSpec_features.csv')\n",
    "MS_data=MS_data[MS_data['MS_peak']!=0] #Remove rows reporting 0 peak area\n",
    "MS_data=MS_data.reset_index()\n",
    "MS_data=MS_data.drop(columns=['index'])\n",
    "\n",
    "MS_comp_ids=MS_data[['row_id','comp_name','InChIKey']] #Chemical Identifiers\n",
    "MS_props=MS_data[['MW','C','logP','logS','HBI','NCA','NPSA','C_Label']] #Property Features\n",
    "MS_phylo=MS_data[['class','order','family','genus','F_Label']] #Phylogenetic Features\n",
    "MS_resp=MS_data[['row_id','MS_peak']] #Response Values"
   ]
  },
  {
   "cell_type": "code",
   "execution_count": null,
   "id": "25f63edd",
   "metadata": {
    "scrolled": true
   },
   "outputs": [],
   "source": [
    "#Prepare FoodMine Chemical Properties\n",
    "FM_data=pd.read_csv('../data/FoodMine_features.csv')\n",
    "FM_data=FM_data[FM_data['MS_peak']!=0]\n",
    "FM_data=FM_data.drop(columns=['row_id','food_name','phylum','class','order','family','genus','F_Label','MS_peak'])\n",
    "FM_data=FM_data.drop_duplicates()\n",
    "FM_data=FM_data.reset_index()\n",
    "FM_data=FM_data.drop(columns=['index'])\n",
    "\n",
    "FM_comp_ids=FM_data[['COMP_ID','comp_name','InChIKey']] #Chemical Identifiers\n",
    "FM_props=FM_data[['MW','C','logP','logS','HBI','NCA','NPSA','C_Label']] #Property Features\n",
    "FM_resp=FM_data[['COMP_ID']] #Output Matrix"
   ]
  },
  {
   "cell_type": "markdown",
   "id": "2849fb28",
   "metadata": {},
   "source": [
    "# Find Property and Phylogenetic Component Variables"
   ]
  },
  {
   "cell_type": "code",
   "execution_count": null,
   "id": "6439329a",
   "metadata": {},
   "outputs": [],
   "source": [
    "#Merge all chemical property lists of all datasets\n",
    "Prop_All=pd.concat([uspx_props,MS_props,FM_props]) #Merge all Property Features of all datasets\n",
    "Prop_All=Prop_All.drop_duplicates() #Remove duplicate compounds\n",
    "Prop_All=Prop_All.reset_index(drop=True)\n",
    "Clbl=pd.DataFrame(Prop_All['C_Label']) #Create Compound Label list of merged dataset\n",
    "Prop_All=Prop_All.drop(columns=['C_Label']) #Drop label column for input into PCA\n",
    "\n",
    "#Merge all phylogenetic lists of all datasets\n",
    "Phylo_All=pd.concat([uspx_phylo,MS_phylo]) #Merge all Phylogenetic Features of all datasets\n",
    "Phylo_All=Phylo_All.drop_duplicates() #Remove dulplicate foods\n",
    "Phylo_All=Phylo_All.reset_index(drop=True)\n",
    "Flbl=pd.DataFrame(Phylo_All['F_Label']) #Create Phylogenetic Label list of merged dataset\n",
    "Phylo_All=Phylo_All.drop(columns=['F_Label']) #Drop label column for input into MCA"
   ]
  },
  {
   "cell_type": "code",
   "execution_count": null,
   "id": "1db01e2e",
   "metadata": {},
   "outputs": [],
   "source": [
    "#Find Principle Components of property features for merged dataset\n",
    "pca=PCA(n_components=7)\n",
    "pcc_df=pca.fit_transform(Prop_All) #Find principal components for the chemical properties\n",
    "pcc_df=pd.DataFrame(data=pcc_df,columns=['PCC1','PCC2','PCC3','PCC4','PCC5','PCC6','PCC7'])\n",
    "print('prop explained:',pca.explained_variance_ratio_)\n",
    "\n",
    "#Find Components of phylogenetic features for merged dataset\n",
    "mca=prince.MCA(n_components=13)\n",
    "mca.fit(Phylo_All)\n",
    "pcp_df=mca.transform(Phylo_All) #Find principal components for the phylogenetic tree\n",
    "pcp_df.columns=['PCP1','PCP2','PCP3','PCP4','PCP5','PCP6','PCP7','PCP8','PCP9','PCP10','PCP11','PCP12','PCP13']\n",
    "print('pt explained:',mca.total_inertia_)\n",
    "print(sum(mca.explained_inertia_))"
   ]
  },
  {
   "cell_type": "markdown",
   "id": "321673be",
   "metadata": {},
   "source": [
    "# Create Component Matrices for the Datasets"
   ]
  },
  {
   "cell_type": "code",
   "execution_count": null,
   "id": "c3cf02d1",
   "metadata": {},
   "outputs": [],
   "source": [
    "#Create a USDA Phenol Explorer Training Dataset from the PCA and MCA analysis components\n",
    "n1=len(uspx_data)\n",
    "xx=np.linspace(0,(n1*1),(n1*1)+1)\n",
    "USPX=pd.DataFrame(columns=['PCC1','PCC2','PCC3','PCC4','PCP1','PCP2','PCP3','PCP4','PCP5','PCP6','PCP7','PCP8','PCP9','PCP10','PCP11','PCP12','PCP13'], index=xx)\n",
    "\n",
    "for h in uspx_data.index:\n",
    "    #Find property component features for each row in USPX data\n",
    "    S1=Clbl.loc[Clbl['C_Label']==uspx_data['C_Label'][h]]\n",
    "    USPX.loc[h,('PCC1','PCC2','PCC3','PCC4')]=[pcc_df.loc[S1.index[0],'PCC1'],pcc_df.loc[S1.index[0],'PCC2'],pcc_df.loc[S1.index[0],'PCC3'],pcc_df.loc[S1.index[0],'PCC4']]\n",
    "    \n",
    "    #Find phylogenetic component features for each row in USPX data\n",
    "    S1=Flbl.loc[Flbl['F_Label']==uspx_data['F_Label'][h]]\n",
    "    USPX.loc[h,('PCP1','PCP2','PCP3','PCP4','PCP5','PCP6','PCP7','PCP8','PCP9','PCP10','PCP11','PCP12','PCP13')]=[pcp_df.loc[S1.index[0],'PCP1'],pcp_df.loc[S1.index[0],'PCP2'],pcp_df.loc[S1.index[0],'PCP3'],pcp_df.loc[S1.index[0],'PCP4'],pcp_df.loc[S1.index[0],'PCP5'],pcp_df.loc[S1.index[0],'PCP6'],pcp_df.loc[S1.index[0],'PCP7'],pcp_df.loc[S1.index[0],'PCP8'],pcp_df.loc[S1.index[0],'PCP9'],pcp_df.loc[S1.index[0],'PCP10'],pcp_df.loc[S1.index[0],'PCP11'],pcp_df.loc[S1.index[0],'PCP12'],pcp_df.loc[S1.index[0],'PCP13']]\n",
    "USPX=USPX.dropna()\n",
    "USPX=USPX.reset_index(drop=True)"
   ]
  },
  {
   "cell_type": "code",
   "execution_count": null,
   "id": "118dcad3",
   "metadata": {},
   "outputs": [],
   "source": [
    "#Create a MS dataset from the PCA and MCA analysis components\n",
    "n1=len(MS_data)\n",
    "xx=np.linspace(0,(n1*1),(n1*1)+1)\n",
    "MS=pd.DataFrame(columns=['PCC1','PCC2','PCC3','PCC4','PCP1','PCP2','PCP3','PCP4','PCP5','PCP6','PCP7','PCP8','PCP9','PCP10','PCP11','PCP12','PCP13'], index=xx)\n",
    "\n",
    "for h in MS_data.index:\n",
    "    #Find property component features for each row in Mbn data\n",
    "    S1=Clbl.loc[Clbl['C_Label']==MS_data['C_Label'][h]]\n",
    "    MS.loc[h,('PCC1','PCC2','PCC3','PCC4')]=[pcc_df.loc[S1.index[0],'PCC1'],pcc_df.loc[S1.index[0],'PCC2'],pcc_df.loc[S1.index[0],'PCC3'],pcc_df.loc[S1.index[0],'PCC4']]\n",
    "    \n",
    "    #Find phylogenetic component features for each row in Mbn data\n",
    "    S1=Flbl.loc[Flbl['F_Label']==MS_data['F_Label'][h]]\n",
    "    MS.loc[h,('PCP1','PCP2','PCP3','PCP4','PCP5','PCP6','PCP7','PCP8','PCP9','PCP10','PCP11','PCP12','PCP13')]=[pcp_df.loc[S1.index[0],'PCP1'],pcp_df.loc[S1.index[0],'PCP2'],pcp_df.loc[S1.index[0],'PCP3'],pcp_df.loc[S1.index[0],'PCP4'],pcp_df.loc[S1.index[0],'PCP5'],pcp_df.loc[S1.index[0],'PCP6'],pcp_df.loc[S1.index[0],'PCP7'],pcp_df.loc[S1.index[0],'PCP8'],pcp_df.loc[S1.index[0],'PCP9'],pcp_df.loc[S1.index[0],'PCP10'],pcp_df.loc[S1.index[0],'PCP11'],pcp_df.loc[S1.index[0],'PCP12'],pcp_df.loc[S1.index[0],'PCP13']]\n",
    "MS=MS.dropna()\n",
    "MS=MS.reset_index(drop=True)"
   ]
  },
  {
   "cell_type": "code",
   "execution_count": null,
   "id": "6e197918",
   "metadata": {},
   "outputs": [],
   "source": [
    "#Create a FoodMine (FM) dataset from the PCA and MCA analysis components using USPX food list and FM property list\n",
    "uspx_phylo_FM=uspx_phylo.drop_duplicates() #Make list of unique foods in USPX\n",
    "uspx_phylo_FM=uspx_phylo_FM.reset_index(drop=True)\n",
    "FM_props=FM_props.reset_index(drop=True)\n",
    "\n",
    "n1=len(uspx_phylo_FM)*len(FM_props) #All combinations of USPX foods and FM compounds\n",
    "xx=np.linspace(0,(n1*1),(n1*1)+1)\n",
    "FM=pd.DataFrame(columns=['PCC1','PCC2','PCC3','PCC4','PCP1','PCP2','PCP3','PCP4','PCP5','PCP6','PCP7','PCP8','PCP9','PCP10','PCP11','PCP12','PCP13'], index=xx)\n",
    "FM_resp2=pd.DataFrame(columns=['COMP_ID'], index=xx)\n",
    "\n",
    "r=0\n",
    "for h in FM_props.index:\n",
    "    #Select compound\n",
    "    S1=Clbl.loc[Clbl['C_Label']==FM_props['C_Label'][h]]\n",
    "    #Iterate over the foods in USPX\n",
    "    for j in uspx_phylo_FM.index:\n",
    "        S2=Flbl.loc[Flbl['F_Label']==uspx_phylo_FM['F_Label'][j]]\n",
    "        #Create rows such that there is a row for each possible compound-food pair between FM and USPX\n",
    "        FM.loc[r,('PCC1','PCC2','PCC3','PCC4')]=[pcc_df.loc[S1.index[0],'PCC1'],pcc_df.loc[S1.index[0],'PCC2'],pcc_df.loc[S1.index[0],'PCC3'],pcc_df.loc[S1.index[0],'PCC4']]\n",
    "        FM.loc[r,('PCP1','PCP2','PCP3','PCP4','PCP5','PCP6','PCP7','PCP8','PCP9','PCP10','PCP11','PCP12','PCP13')]=[pcp_df.loc[S2.index[0],'PCP1'],pcp_df.loc[S2.index[0],'PCP2'],pcp_df.loc[S2.index[0],'PCP3'],pcp_df.loc[S2.index[0],'PCP4'],pcp_df.loc[S2.index[0],'PCP5'],pcp_df.loc[S2.index[0],'PCP6'],pcp_df.loc[S2.index[0],'PCP7'],pcp_df.loc[S2.index[0],'PCP8'],pcp_df.loc[S2.index[0],'PCP9'],pcp_df.loc[S2.index[0],'PCP10'],pcp_df.loc[S2.index[0],'PCP11'],pcp_df.loc[S2.index[0],'PCP12'],pcp_df.loc[S2.index[0],'PCP13']]\n",
    "        r=r+1\n",
    "FM=FM.dropna()\n",
    "FM=FM.reset_index(drop=True)\n",
    "\n",
    "#Create Output matrix of FoodMine Predictions\n",
    "r=0\n",
    "for h in range(0,len(FM_resp)):\n",
    "    for j in range(0,len(uspx_phylo_FM)):\n",
    "        FM_resp2['COMP_ID'][r]=FM_resp['COMP_ID'][h]\n",
    "        r=r+1\n",
    "FM_resp2=FM_resp2.dropna()\n",
    "FM_resp2=FM_resp2.reset_index(drop=True)"
   ]
  },
  {
   "cell_type": "markdown",
   "id": "389a5136",
   "metadata": {},
   "source": [
    "# Building Model"
   ]
  },
  {
   "cell_type": "code",
   "execution_count": null,
   "id": "8618bd47",
   "metadata": {},
   "outputs": [],
   "source": [
    "#HyperParameter Optimization\n",
    "X=USPX\n",
    "Y=uspx_resp['logvalue']\n",
    "\n",
    "#Stratified folds by Chemical Classes\n",
    "y=Slbl['Cvariable']\n",
    "skf=StratifiedKFold(n_splits=5, shuffle=True, random_state=1)\n",
    "cvf=skf.split(X,y)\n",
    "\n",
    "#Find optimization start time\n",
    "t=time.time()\n",
    "\n",
    "#Bayesian optimizer and parameters\n",
    "opt=BayesSearchCV(\n",
    "    estimator=GradientBoostingRegressor(),\n",
    "    search_spaces={'max_depth':(3,10),\n",
    "    'max_leaf_nodes':(2,50),\n",
    "    'learning_rate':(0.01,1.0,'log-uniform'),\n",
    "    'n_estimators':(10,200)},\n",
    "    n_iter=100,\n",
    "    verbose=0,\n",
    "    cv=cvf\n",
    ")\n",
    "opt.fit(X,np.ravel(Y))\n",
    "\n",
    "#Duration of optimization and best fit hyperparameters\n",
    "print('Elapsed: %s' % (time.time()-t))\n",
    "print(\"score: %s\" % opt.best_score_)\n",
    "print(opt.best_estimator_)"
   ]
  },
  {
   "cell_type": "code",
   "execution_count": null,
   "id": "53c8b729",
   "metadata": {
    "scrolled": true
   },
   "outputs": [],
   "source": [
    "#All Hyperparameter Optimization Results\n",
    "pd.DataFrame(opt.cv_results_)"
   ]
  },
  {
   "cell_type": "code",
   "execution_count": null,
   "id": "2d5fc98a",
   "metadata": {},
   "outputs": [],
   "source": [
    "np.mean(opt.cv_results_['mean_test_score'])"
   ]
  },
  {
   "cell_type": "code",
   "execution_count": null,
   "id": "39e853e2",
   "metadata": {},
   "outputs": [],
   "source": [
    "d=pd.DataFrame(opt.cv_results_)\n",
    "d.loc[d['mean_test_score']==opt.best_score_]"
   ]
  },
  {
   "cell_type": "code",
   "execution_count": null,
   "id": "00482e41",
   "metadata": {},
   "outputs": [],
   "source": [
    "#Create Model with Best Hyperparameters\n",
    "mdl=GradientBoostingRegressor(\n",
    "    n_estimators=opt.best_params_['n_estimators'],\n",
    "    max_leaf_nodes=opt.best_params_['max_leaf_nodes'],\n",
    "    learning_rate=opt.best_params_['learning_rate'],\n",
    "    max_depth=opt.best_params_['max_depth'])\n",
    "print(mdl)"
   ]
  },
  {
   "cell_type": "markdown",
   "id": "090e78ba",
   "metadata": {},
   "source": [
    "# Predicting FoodMine Compounds"
   ]
  },
  {
   "cell_type": "code",
   "execution_count": null,
   "id": "a9988322",
   "metadata": {
    "scrolled": true
   },
   "outputs": [],
   "source": [
    "#Predicting concentration of compound in each food for FoodMine\n",
    "slct=FM\n",
    "X=np.array(USPX)\n",
    "Y=uspx_resp['logvalue']\n",
    "y=Slbl['Cvariable']\n",
    "\n",
    "skf=StratifiedKFold(n_splits=5, shuffle=True, random_state=1)\n",
    "\n",
    "r=1\n",
    "for train_index, test_index in skf.split(X,y):\n",
    "    X_train,X_test=X[train_index],X[test_index]\n",
    "    Y_train,Y_test=Y[train_index],Y[test_index]\n",
    "    \n",
    "    #Create the training and test sets for a fold\n",
    "    xx=np.linspace(0,((len(X_train)-1)*1),((len(X_train)-1)*1)+1)\n",
    "    X_train=X_train.astype('float64')\n",
    "    X_train=pd.DataFrame(X_train,columns=['PCC1','PCC2','PCC3','PCC4','PCP1','PCP2','PCP3','PCP4','PCP5','PCP6','PCP7','PCP8','PCP9','PCP10','PCP11','PCP12','PCP13'], index=xx)\n",
    "    \n",
    "    xx=np.linspace(0,((len(X_test)-1)*1),((len(X_test)-1)*1)+1)\n",
    "    X_test=X_test.astype('float64')\n",
    "    X_test=pd.DataFrame(X_test,columns=['PCC1','PCC2','PCC3','PCC4','PCP1','PCP2','PCP3','PCP4','PCP5','PCP6','PCP7','PCP8','PCP9','PCP10','PCP11','PCP12','PCP13'], index=xx)\n",
    "    \n",
    "    #Make prediction for a fold\n",
    "    mdl.fit(X_train,Y_train)\n",
    "    print(mdl.score(X_test,Y_test))\n",
    "    Pred=mdl.predict(slct)\n",
    "    \n",
    "    #Store each fold prediction\n",
    "    col='Pred' + str(r)\n",
    "    FM_resp2[col]=Pred.tolist()\n",
    "    r=r+1"
   ]
  },
  {
   "cell_type": "code",
   "execution_count": null,
   "id": "2fe9ae3f",
   "metadata": {},
   "outputs": [],
   "source": [
    "FM_resp2.to_csv('FM_output.csv')"
   ]
  },
  {
   "cell_type": "markdown",
   "id": "ca207f52",
   "metadata": {},
   "source": [
    "# Predicting MassSpec Compounds"
   ]
  },
  {
   "cell_type": "code",
   "execution_count": null,
   "id": "484bd407",
   "metadata": {},
   "outputs": [],
   "source": [
    "#Predicting concentration of compound in each food for MassSpec\n",
    "slct=MS\n",
    "X=np.array(USPX)\n",
    "Y=uspx_resp['logvalue']\n",
    "y=Slbl['Cvariable']\n",
    "\n",
    "skf=StratifiedKFold(n_splits=5, shuffle=True, random_state=1)\n",
    "\n",
    "r=1\n",
    "for train_index, test_index in skf.split(X,y):\n",
    "    X_train,X_test=X[train_index],X[test_index]\n",
    "    Y_train,Y_test=Y[train_index],Y[test_index]\n",
    "    \n",
    "    #Create the training and test sets for a fold\n",
    "    xx=np.linspace(0,((len(X_train)-1)*1),((len(X_train)-1)*1)+1)\n",
    "    X_train=X_train.astype('float64')\n",
    "    X_train=pd.DataFrame(X_train,columns=['PCC1','PCC2','PCC3','PCC4','PCP1','PCP2','PCP3','PCP4','PCP5','PCP6','PCP7','PCP8','PCP9','PCP10','PCP11','PCP12','PCP13'], index=xx)\n",
    "    \n",
    "    xx=np.linspace(0,((len(X_test)-1)*1),((len(X_test)-1)*1)+1)\n",
    "    X_test=X_test.astype('float64')\n",
    "    X_test=pd.DataFrame(X_test,columns=['PCC1','PCC2','PCC3','PCC4','PCP1','PCP2','PCP3','PCP4','PCP5','PCP6','PCP7','PCP8','PCP9','PCP10','PCP11','PCP12','PCP13'], index=xx)\n",
    "    \n",
    "    #Make prediction for a fold\n",
    "    mdl.fit(X_train,Y_train)\n",
    "    print(mdl.score(X_test,Y_test))\n",
    "    Pred=mdl.predict(slct)\n",
    "\n",
    "    #Store each fold prediction\n",
    "    col='Pred' + str(r)\n",
    "    MS_resp[col]=Pred.tolist()\n",
    "    r=r+1"
   ]
  },
  {
   "cell_type": "code",
   "execution_count": null,
   "id": "225a269f",
   "metadata": {},
   "outputs": [],
   "source": [
    "MS_resp.to_csv('MS_output.csv')"
   ]
  },
  {
   "cell_type": "code",
   "execution_count": null,
   "id": "f4d0bab2",
   "metadata": {},
   "outputs": [],
   "source": []
  }
 ],
 "metadata": {
  "kernelspec": {
   "display_name": "Python 3 (ipykernel)",
   "language": "python",
   "name": "python3"
  },
  "language_info": {
   "codemirror_mode": {
    "name": "ipython",
    "version": 3
   },
   "file_extension": ".py",
   "mimetype": "text/x-python",
   "name": "python",
   "nbconvert_exporter": "python",
   "pygments_lexer": "ipython3",
   "version": "3.9.7"
  }
 },
 "nbformat": 4,
 "nbformat_minor": 5
}
